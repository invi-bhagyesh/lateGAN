{
 "cells": [
  {
   "cell_type": "code",
   "execution_count": 1,
   "id": "950ed0a9",
   "metadata": {
    "execution": {
     "iopub.execute_input": "2025-04-11T05:38:50.127164Z",
     "iopub.status.busy": "2025-04-11T05:38:50.126927Z",
     "iopub.status.idle": "2025-04-11T05:38:58.477029Z",
     "shell.execute_reply": "2025-04-11T05:38:58.476405Z"
    },
    "papermill": {
     "duration": 8.356023,
     "end_time": "2025-04-11T05:38:58.478453",
     "exception": false,
     "start_time": "2025-04-11T05:38:50.122430",
     "status": "completed"
    },
    "tags": []
   },
   "outputs": [],
   "source": [
    "import torch\n",
    "import torch.nn as nn\n",
    "import torch.optim as optim\n",
    "import torchvision\n",
    "from tqdm import tqdm\n",
    "import torchvision.datasets as datasets\n",
    "from torchvision.datasets import ImageFolder\n",
    "from torchvision.utils import make_grid\n",
    "import torchvision.utils as vutils\n",
    "import torchvision.transforms as transforms\n",
    "from torch.utils.data import DataLoader\n",
    "import matplotlib.pyplot as plt\n",
    "from torch.utils.data import Subset\n",
    "import numpy as np"
   ]
  },
  {
   "cell_type": "code",
   "execution_count": 2,
   "id": "ec74d538",
   "metadata": {
    "execution": {
     "iopub.execute_input": "2025-04-11T05:38:58.485388Z",
     "iopub.status.busy": "2025-04-11T05:38:58.485128Z",
     "iopub.status.idle": "2025-04-11T05:39:01.366643Z",
     "shell.execute_reply": "2025-04-11T05:39:01.366029Z"
    },
    "papermill": {
     "duration": 2.886036,
     "end_time": "2025-04-11T05:39:01.367812",
     "exception": false,
     "start_time": "2025-04-11T05:38:58.481776",
     "status": "completed"
    },
    "tags": []
   },
   "outputs": [
    {
     "name": "stderr",
     "output_type": "stream",
     "text": [
      "\u001b[34m\u001b[1mwandb\u001b[0m: \u001b[33mWARNING\u001b[0m If you're specifying your api key in code, ensure this code is not shared publicly.\n",
      "\u001b[34m\u001b[1mwandb\u001b[0m: \u001b[33mWARNING\u001b[0m Consider setting the WANDB_API_KEY environment variable, or running `wandb login` from the command line.\n",
      "\u001b[34m\u001b[1mwandb\u001b[0m: Appending key for api.wandb.ai to your netrc file: /root/.netrc\n",
      "\u001b[34m\u001b[1mwandb\u001b[0m: Currently logged in as: \u001b[33minvi-bhagyesh\u001b[0m (\u001b[33minvi-bhagyesh-manipal\u001b[0m) to \u001b[32mhttps://api.wandb.ai\u001b[0m. Use \u001b[1m`wandb login --relogin`\u001b[0m to force relogin\n"
     ]
    },
    {
     "data": {
      "text/plain": [
       "True"
      ]
     },
     "execution_count": 2,
     "metadata": {},
     "output_type": "execute_result"
    }
   ],
   "source": [
    "from kaggle_secrets import UserSecretsClient\n",
    "import wandb\n",
    "\n",
    "user_secrets = UserSecretsClient()\n",
    "wandb_api_key = user_secrets.get_secret(\"add\")\n",
    "\n",
    "wandb.login(key=wandb_api_key)"
   ]
  },
  {
   "cell_type": "code",
   "execution_count": 3,
   "id": "c7ab166b",
   "metadata": {
    "execution": {
     "iopub.execute_input": "2025-04-11T05:39:01.375109Z",
     "iopub.status.busy": "2025-04-11T05:39:01.374893Z",
     "iopub.status.idle": "2025-04-11T05:39:03.043933Z",
     "shell.execute_reply": "2025-04-11T05:39:03.043387Z"
    },
    "papermill": {
     "duration": 1.67402,
     "end_time": "2025-04-11T05:39:03.045210",
     "exception": false,
     "start_time": "2025-04-11T05:39:01.371190",
     "status": "completed"
    },
    "tags": []
   },
   "outputs": [
    {
     "name": "stderr",
     "output_type": "stream",
     "text": [
      "\u001b[34m\u001b[1mwandb\u001b[0m: Using wandb-core as the SDK backend.  Please refer to https://wandb.me/wandb-core for more information.\n",
      "\u001b[34m\u001b[1mwandb\u001b[0m: Tracking run with wandb version 0.19.6\n",
      "\u001b[34m\u001b[1mwandb\u001b[0m: Run data is saved locally in \u001b[35m\u001b[1m/kaggle/working/wandb/run-20250411_053901-mss4mkrz\u001b[0m\n",
      "\u001b[34m\u001b[1mwandb\u001b[0m: Run \u001b[1m`wandb offline`\u001b[0m to turn off syncing.\n",
      "\u001b[34m\u001b[1mwandb\u001b[0m: Syncing run \u001b[33mDCGAN\u001b[0m\n",
      "\u001b[34m\u001b[1mwandb\u001b[0m: ⭐️ View project at \u001b[34m\u001b[4mhttps://wandb.ai/invi-bhagyesh-manipal/GAN\u001b[0m\n",
      "\u001b[34m\u001b[1mwandb\u001b[0m: 🚀 View run at \u001b[34m\u001b[4mhttps://wandb.ai/invi-bhagyesh-manipal/GAN/runs/mss4mkrz\u001b[0m\n"
     ]
    }
   ],
   "source": [
    "wandb.init(project=\"GAN\", name=\"DCGAN\")  # Give your project a name\n",
    "config = {\n",
    "    \"model_name\": \"GAN\",\n",
    "    \n",
    "}\n",
    "wandb.config.update(config)  # Log config"
   ]
  },
  {
   "cell_type": "code",
   "execution_count": 4,
   "id": "5befa51b",
   "metadata": {
    "execution": {
     "iopub.execute_input": "2025-04-11T05:39:03.052894Z",
     "iopub.status.busy": "2025-04-11T05:39:03.052684Z",
     "iopub.status.idle": "2025-04-11T05:39:03.114552Z",
     "shell.execute_reply": "2025-04-11T05:39:03.113931Z"
    },
    "papermill": {
     "duration": 0.066894,
     "end_time": "2025-04-11T05:39:03.115705",
     "exception": false,
     "start_time": "2025-04-11T05:39:03.048811",
     "status": "completed"
    },
    "tags": []
   },
   "outputs": [],
   "source": [
    "device = torch.device(\"cuda\" if torch.cuda.is_available() else \"cpu\")\n",
    "LEARNING_RATE = 2e-4  # could also use two lrs, one for gen and one for disc\n",
    "BATCH_SIZE = 128\n",
    "IMAGE_SIZE = 64\n",
    "CHANNELS_IMG = 3\n",
    "Z_DIM = 100\n",
    "NUM_EPOCHS = 50\n",
    "FEATURES_DISC = 64\n",
    "FEATURES_GEN = 64"
   ]
  },
  {
   "cell_type": "code",
   "execution_count": 5,
   "id": "b0988ce6",
   "metadata": {
    "execution": {
     "iopub.execute_input": "2025-04-11T05:39:03.123696Z",
     "iopub.status.busy": "2025-04-11T05:39:03.123398Z",
     "iopub.status.idle": "2025-04-11T05:39:04.597232Z",
     "shell.execute_reply": "2025-04-11T05:39:04.596395Z"
    },
    "papermill": {
     "duration": 1.479354,
     "end_time": "2025-04-11T05:39:04.598650",
     "exception": false,
     "start_time": "2025-04-11T05:39:03.119296",
     "status": "completed"
    },
    "tags": []
   },
   "outputs": [],
   "source": [
    "from torch.utils.data import Dataset, DataLoader, random_split\n",
    "from PIL import Image\n",
    "import os\n",
    "from torchvision import transforms\n",
    "\n",
    "# Transform\n",
    "transform = transforms.Compose([\n",
    "    transforms.Resize((IMAGE_SIZE, IMAGE_SIZE)),\n",
    "    transforms.ToTensor(),\n",
    "    transforms.Normalize((0.5, 0.5, 0.5), (0.5, 0.5, 0.5))\n",
    "])\n",
    "\n",
    "# Custom dataset loader\n",
    "class CelebAUnlabeledDataset(Dataset):\n",
    "    def __init__(self, img_dir, transform=None):\n",
    "        self.img_dir = img_dir\n",
    "        self.transform = transform\n",
    "        self.image_files = sorted([\n",
    "            f for f in os.listdir(img_dir) if f.lower().endswith(('.jpg', '.png', '.jpeg'))\n",
    "        ])\n",
    "\n",
    "    def __len__(self):\n",
    "        return len(self.image_files)\n",
    "\n",
    "    def __getitem__(self, idx):\n",
    "        img_path = os.path.join(self.img_dir, self.image_files[idx])\n",
    "        image = Image.open(img_path).convert('RGB')\n",
    "        if self.transform:\n",
    "            image = self.transform(image)\n",
    "        return image\n",
    "\n",
    "# Load full dataset\n",
    "dataset = CelebAUnlabeledDataset(\n",
    "    img_dir=\"/kaggle/input/celeba-dataset/img_align_celeba/img_align_celeba\",\n",
    "    transform=transform\n",
    ")\n",
    "\n",
    "# Train/Validation split\n",
    "val_split = 0.1  # 10% for validation\n",
    "val_size = int(len(dataset) * val_split)\n",
    "train_size = len(dataset) - val_size\n",
    "\n",
    "train_dataset, val_dataset = random_split(dataset, [train_size, val_size])\n",
    "\n",
    "# DataLoaders\n",
    "dataloader = DataLoader(dataset=train_dataset, batch_size=BATCH_SIZE, shuffle=True, num_workers=2, pin_memory=True)\n",
    "val_dataloader = DataLoader(dataset=val_dataset, batch_size=BATCH_SIZE, shuffle=False, num_workers=2, pin_memory=True)"
   ]
  },
  {
   "cell_type": "code",
   "execution_count": 6,
   "id": "761ea67b",
   "metadata": {
    "execution": {
     "iopub.execute_input": "2025-04-11T05:39:04.606459Z",
     "iopub.status.busy": "2025-04-11T05:39:04.606242Z",
     "iopub.status.idle": "2025-04-11T05:39:07.398032Z",
     "shell.execute_reply": "2025-04-11T05:39:07.397254Z"
    },
    "papermill": {
     "duration": 2.79702,
     "end_time": "2025-04-11T05:39:07.399314",
     "exception": false,
     "start_time": "2025-04-11T05:39:04.602294",
     "status": "completed"
    },
    "tags": []
   },
   "outputs": [
    {
     "data": {
      "text/plain": [
       "<matplotlib.image.AxesImage at 0x7d25012c5090>"
      ]
     },
     "execution_count": 6,
     "metadata": {},
     "output_type": "execute_result"
    },
    {
     "data": {
      "image/png": "[encoded data removed]",
      "text/plain": [
       "<Figure size 700x700 with 1 Axes>"
      ]
     },
     "metadata": {},
     "output_type": "display_data"
    }
   ],
   "source": [
    "real_batch = next(iter(dataloader))\n",
    "plt.figure(figsize=(7,7))\n",
    "plt.axis(\"off\")\n",
    "plt.title(\"Training Images\")\n",
    "plt.imshow(np.transpose(vutils.make_grid(real_batch[0].to(device)[:49], padding=2, normalize=True).cpu(),(1,2,0)))"
   ]
  },
  {
   "cell_type": "code",
   "execution_count": 7,
   "id": "ca9f6ffc",
   "metadata": {
    "execution": {
     "iopub.execute_input": "2025-04-11T05:39:07.408319Z",
     "iopub.status.busy": "2025-04-11T05:39:07.408091Z",
     "iopub.status.idle": "2025-04-11T05:39:07.414136Z",
     "shell.execute_reply": "2025-04-11T05:39:07.413574Z"
    },
    "papermill": {
     "duration": 0.011726,
     "end_time": "2025-04-11T05:39:07.415159",
     "exception": false,
     "start_time": "2025-04-11T05:39:07.403433",
     "status": "completed"
    },
    "tags": []
   },
   "outputs": [],
   "source": [
    "class Generator(nn.Module):\n",
    "    def __init__(self, z_dim, channels_img, features_g):\n",
    "        super(Generator, self).__init__()\n",
    "        self.net = nn.Sequential(\n",
    "            self._block(z_dim, features_g * 16, 4, 1, 0),\n",
    "            self._block(features_g * 16, features_g * 8, 4, 2, 1),\n",
    "            self._block(features_g * 8, features_g * 4, 4, 2, 1),\n",
    "            self._block(features_g * 4, features_g * 2, 4, 2, 1),\n",
    "            nn.ConvTranspose2d(\n",
    "                features_g * 2, channels_img, kernel_size=4, stride=2, padding=1\n",
    "            ),\n",
    "            nn.Tanh()\n",
    "        )\n",
    "\n",
    "    def _block(self, in_channels, out_channels, kernel_size, stride, padding):\n",
    "        return nn.Sequential(\n",
    "            nn.ConvTranspose2d(\n",
    "                in_channels,\n",
    "                out_channels,\n",
    "                kernel_size,\n",
    "                stride,\n",
    "                padding,\n",
    "                bias=False\n",
    "            ),\n",
    "            nn.BatchNorm2d(out_channels),\n",
    "            nn.ReLU()\n",
    "        )\n",
    "\n",
    "    def forward(self, x):\n",
    "        return self.net(x)\n"
   ]
  },
  {
   "cell_type": "code",
   "execution_count": 8,
   "id": "68b4a783",
   "metadata": {
    "execution": {
     "iopub.execute_input": "2025-04-11T05:39:07.423340Z",
     "iopub.status.busy": "2025-04-11T05:39:07.423132Z",
     "iopub.status.idle": "2025-04-11T05:39:07.428317Z",
     "shell.execute_reply": "2025-04-11T05:39:07.427820Z"
    },
    "papermill": {
     "duration": 0.010398,
     "end_time": "2025-04-11T05:39:07.429323",
     "exception": false,
     "start_time": "2025-04-11T05:39:07.418925",
     "status": "completed"
    },
    "tags": []
   },
   "outputs": [],
   "source": [
    "class Discriminator(nn.Module):\n",
    "    def __init__(self, channels_img, features_d):\n",
    "        super(Discriminator, self).__init__()\n",
    "        self.disc = nn.Sequential(\n",
    "            nn.Conv2d(channels_img, features_d, kernel_size=4, stride=2, padding=1),\n",
    "            nn.LeakyReLU(0.2),\n",
    "            self._block(features_d, features_d * 2, 4, 2, 1),\n",
    "            self._block(features_d * 2, features_d * 4, 4, 2, 1),\n",
    "            self._block(features_d * 4, features_d * 8, 4, 2, 1),\n",
    "            nn.Conv2d(features_d * 8, 1, kernel_size=4, stride=2, padding=0),\n",
    "            nn.Sigmoid()\n",
    "        )\n",
    "\n",
    "    def _block(self, in_channels, out_channels, kernel_size, stride, padding):\n",
    "        return nn.Sequential(\n",
    "            nn.Conv2d(\n",
    "                in_channels,\n",
    "                out_channels,\n",
    "                kernel_size,\n",
    "                stride,\n",
    "                padding,\n",
    "                bias=False\n",
    "            ),\n",
    "            nn.BatchNorm2d(out_channels),\n",
    "            nn.LeakyReLU(0.2)\n",
    "        )\n",
    "\n",
    "    def forward(self, x):\n",
    "        return self.disc(x)"
   ]
  },
  {
   "cell_type": "code",
   "execution_count": 9,
   "id": "a8324f62",
   "metadata": {
    "execution": {
     "iopub.execute_input": "2025-04-11T05:39:07.437445Z",
     "iopub.status.busy": "2025-04-11T05:39:07.437255Z",
     "iopub.status.idle": "2025-04-11T05:39:07.440934Z",
     "shell.execute_reply": "2025-04-11T05:39:07.440423Z"
    },
    "papermill": {
     "duration": 0.008885,
     "end_time": "2025-04-11T05:39:07.441971",
     "exception": false,
     "start_time": "2025-04-11T05:39:07.433086",
     "status": "completed"
    },
    "tags": []
   },
   "outputs": [],
   "source": [
    "def initialize_weights(model):\n",
    "    classname = model.__class__.__name__\n",
    "    if classname.find('Conv') != -1:\n",
    "        nn.init.normal_(model.weight.data, 0.0, 0.02)\n",
    "    elif classname.find('BatchNorm') != -1:\n",
    "        nn.init.normal_(model.weight.data, 1.0, 0.02)\n",
    "        nn.init.constant_(model.bias.data, 0)"
   ]
  },
  {
   "cell_type": "code",
   "execution_count": 10,
   "id": "2d3739d3",
   "metadata": {
    "execution": {
     "iopub.execute_input": "2025-04-11T05:39:07.450266Z",
     "iopub.status.busy": "2025-04-11T05:39:07.450078Z",
     "iopub.status.idle": "2025-04-11T05:39:07.612858Z",
     "shell.execute_reply": "2025-04-11T05:39:07.612034Z"
    },
    "papermill": {
     "duration": 0.168431,
     "end_time": "2025-04-11T05:39:07.614355",
     "exception": false,
     "start_time": "2025-04-11T05:39:07.445924",
     "status": "completed"
    },
    "tags": []
   },
   "outputs": [],
   "source": [
    "gen = Generator(Z_DIM, CHANNELS_IMG, FEATURES_GEN).to(device)\n",
    "disc = Discriminator(CHANNELS_IMG, FEATURES_DISC).to(device)\n",
    "\n",
    "initialize_weights(gen)\n",
    "initialize_weights(disc)"
   ]
  },
  {
   "cell_type": "code",
   "execution_count": 11,
   "id": "0f40fd66",
   "metadata": {
    "execution": {
     "iopub.execute_input": "2025-04-11T05:39:07.622906Z",
     "iopub.status.busy": "2025-04-11T05:39:07.622665Z",
     "iopub.status.idle": "2025-04-11T05:39:07.627487Z",
     "shell.execute_reply": "2025-04-11T05:39:07.626967Z"
    },
    "papermill": {
     "duration": 0.010266,
     "end_time": "2025-04-11T05:39:07.628585",
     "exception": false,
     "start_time": "2025-04-11T05:39:07.618319",
     "status": "completed"
    },
    "tags": []
   },
   "outputs": [],
   "source": [
    "opt_gen = optim.Adam(gen.parameters(), lr=LEARNING_RATE, betas=(0.5, 0.999))\n",
    "opt_disc = optim.Adam(disc.parameters(), lr=LEARNING_RATE, betas=(0.5, 0.999))\n",
    "criterion = nn.BCELoss()\n",
    "\n",
    "fixed_noise = torch.randn(32, Z_DIM, 1, 1).to(device)"
   ]
  },
  {
   "cell_type": "code",
   "execution_count": 12,
   "id": "5a38964c",
   "metadata": {
    "execution": {
     "iopub.execute_input": "2025-04-11T05:39:07.637049Z",
     "iopub.status.busy": "2025-04-11T05:39:07.636644Z",
     "iopub.status.idle": "2025-04-11T05:39:07.640573Z",
     "shell.execute_reply": "2025-04-11T05:39:07.639889Z"
    },
    "papermill": {
     "duration": 0.00939,
     "end_time": "2025-04-11T05:39:07.641700",
     "exception": false,
     "start_time": "2025-04-11T05:39:07.632310",
     "status": "completed"
    },
    "tags": []
   },
   "outputs": [],
   "source": [
    "def show_tensor_images(image_tensor, num_images=32, size=(1, 64, 64)):\n",
    "    image_tensor = (image_tensor + 1) / 2\n",
    "    image_unflat = image_tensor.detach().cpu()\n",
    "    image_grid = make_grid(image_unflat[:num_images], nrow=4)\n",
    "    plt.imshow(image_grid.permute(1, 2, 0).squeeze())\n",
    "    plt.show()"
   ]
  },
  {
   "cell_type": "code",
   "execution_count": 13,
   "id": "68739992",
   "metadata": {
    "execution": {
     "iopub.execute_input": "2025-04-11T05:39:07.649693Z",
     "iopub.status.busy": "2025-04-11T05:39:07.649471Z",
     "iopub.status.idle": "2025-04-11T05:39:07.652564Z",
     "shell.execute_reply": "2025-04-11T05:39:07.652073Z"
    },
    "papermill": {
     "duration": 0.00826,
     "end_time": "2025-04-11T05:39:07.653570",
     "exception": false,
     "start_time": "2025-04-11T05:39:07.645310",
     "status": "completed"
    },
    "tags": []
   },
   "outputs": [],
   "source": [
    "os.makedirs(\"saved_weights\", exist_ok=True)\n"
   ]
  },
  {
   "cell_type": "code",
   "execution_count": 14,
   "id": "f90ad296",
   "metadata": {
    "execution": {
     "iopub.execute_input": "2025-04-11T05:39:07.661809Z",
     "iopub.status.busy": "2025-04-11T05:39:07.661598Z",
     "iopub.status.idle": "2025-04-11T08:48:31.141446Z",
     "shell.execute_reply": "2025-04-11T08:48:31.140236Z"
    },
    "papermill": {
     "duration": 11363.485902,
     "end_time": "2025-04-11T08:48:31.143157",
     "exception": false,
     "start_time": "2025-04-11T05:39:07.657255",
     "status": "completed"
    },
    "tags": []
   },
   "outputs": [
    {
     "name": "stderr",
     "output_type": "stream",
     "text": [
      "                                                                                              \r"
     ]
    }
   ],
   "source": [
    "import torch\n",
    "import torchvision\n",
    "from tqdm import tqdm\n",
    "import wandb\n",
    "import os\n",
    "\n",
    "# Initialize wandb\n",
    "wandb.init(project=\"GAN_training\", name=\"DCGAN_run\")\n",
    "\n",
    "# Watch models\n",
    "wandb.watch([gen, disc], log=\"all\", log_freq=100)\n",
    "\n",
    "# Make sure directory exists for saving weights\n",
    "os.makedirs(\"saved_weights\", exist_ok=True)\n",
    "\n",
    "gen.train()\n",
    "disc.train()\n",
    "\n",
    "fixed_noise = torch.randn(32, Z_DIM, 1, 1).to(device)\n",
    "\n",
    "for epoch in range(NUM_EPOCHS):\n",
    "    loop = tqdm(enumerate(dataloader), total=len(dataloader), leave=False)\n",
    "\n",
    "    for batch_idx, real in loop:\n",
    "        real = real.to(device)\n",
    "\n",
    "        ### Generate fake images\n",
    "        noise = torch.randn((BATCH_SIZE, Z_DIM, 1, 1)).to(device)\n",
    "        fake = gen(noise)\n",
    "\n",
    "        ### Train Discriminator\n",
    "        disc_real = disc(real).reshape(-1)\n",
    "        loss_disc_real = criterion(disc_real, torch.ones_like(disc_real))\n",
    "\n",
    "        disc_fake = disc(fake.detach()).reshape(-1)\n",
    "        loss_disc_fake = criterion(disc_fake, torch.zeros_like(disc_fake))\n",
    "\n",
    "        loss_disc = (loss_disc_real + loss_disc_fake) / 2\n",
    "        disc.zero_grad()\n",
    "        loss_disc.backward()\n",
    "        opt_disc.step()\n",
    "\n",
    "        ### Train Generator\n",
    "        output = disc(fake).reshape(-1)\n",
    "        loss_gen = criterion(output, torch.ones_like(output))\n",
    "        gen.zero_grad()\n",
    "        loss_gen.backward()\n",
    "        opt_gen.step()\n",
    "\n",
    "        ### tqdm progress bar update\n",
    "        loop.set_description(f\"Epoch [{epoch+1}/{NUM_EPOCHS}]\")\n",
    "        loop.set_postfix(loss_D=loss_disc.item(), loss_G=loss_gen.item())\n",
    "\n",
    "        ### Log training losses\n",
    "        wandb.log({\n",
    "            \"Train Loss Discriminator\": loss_disc.item(),\n",
    "            \"Train Loss Generator\": loss_gen.item(),\n",
    "            \"Epoch\": epoch\n",
    "        })\n",
    "\n",
    "    ### Log generated images every 5 epochs\n",
    "    if (epoch + 1) % 5 == 0:\n",
    "        with torch.no_grad():\n",
    "            fake = gen(fixed_noise)\n",
    "            img_grid_fake = torchvision.utils.make_grid(fake[:32], normalize=True)\n",
    "            wandb.log({\n",
    "                \"Generated Images\": [wandb.Image(img_grid_fake, caption=f\"Fake Images at Epoch {epoch+1}\")],\n",
    "                \"Epoch\": epoch\n",
    "            })\n",
    "\n",
    "    ### Save model weights every 10 epochs\n",
    "    if (epoch + 1) % 10 == 0:\n",
    "        torch.save(gen.state_dict(), f\"saved_weights/gen_epoch_{epoch+1}.pth\")\n",
    "        torch.save(disc.state_dict(), f\"saved_weights/disc_epoch_{epoch+1}.pth\")\n",
    "        wandb.save(f\"saved_weights/gen_epoch_{epoch+1}.pth\")\n",
    "        wandb.save(f\"saved_weights/disc_epoch_{epoch+1}.pth\")\n",
    "\n",
    "    ### Validation loss logging\n",
    "    gen.eval()\n",
    "    disc.eval()\n",
    "\n",
    "    val_loss_disc = 0\n",
    "    val_loss_gen = 0\n",
    "\n",
    "    with torch.no_grad():\n",
    "        for val_real in val_dataloader:\n",
    "            val_real = val_real.to(device)\n",
    "            val_noise = torch.randn(val_real.size(0), Z_DIM, 1, 1).to(device)\n",
    "            val_fake = gen(val_noise)\n",
    "\n",
    "            # Discriminator Validation Loss\n",
    "            disc_real_val = disc(val_real).reshape(-1)\n",
    "            disc_fake_val = disc(val_fake).reshape(-1)\n",
    "\n",
    "            loss_disc_real_val = criterion(disc_real_val, torch.ones_like(disc_real_val))\n",
    "            loss_disc_fake_val = criterion(disc_fake_val, torch.zeros_like(disc_fake_val))\n",
    "            val_loss_disc += ((loss_disc_real_val + loss_disc_fake_val) / 2).item()\n",
    "\n",
    "            # Generator Validation Loss\n",
    "            output_val = disc(val_fake).reshape(-1)\n",
    "            loss_gen_val = criterion(output_val, torch.ones_like(output_val))\n",
    "            val_loss_gen += loss_gen_val.item()\n",
    "\n",
    "    val_loss_disc /= len(val_dataloader)\n",
    "    val_loss_gen /= len(val_dataloader)\n",
    "\n",
    "    wandb.log({\n",
    "        \"Val Loss Discriminator\": val_loss_disc,\n",
    "        \"Val Loss Generator\": val_loss_gen,\n",
    "        \"Epoch\": epoch\n",
    "    })\n",
    "\n",
    "    gen.train()\n",
    "    disc.train()"
   ]
  },
  {
   "cell_type": "code",
   "execution_count": 15,
   "id": "86416bbc",
   "metadata": {
    "execution": {
     "iopub.execute_input": "2025-04-11T08:48:49.913598Z",
     "iopub.status.busy": "2025-04-11T08:48:49.912829Z",
     "iopub.status.idle": "2025-04-11T08:48:50.032888Z",
     "shell.execute_reply": "2025-04-11T08:48:50.032086Z"
    },
    "papermill": {
     "duration": 9.599288,
     "end_time": "2025-04-11T08:48:50.034155",
     "exception": false,
     "start_time": "2025-04-11T08:48:40.434867",
     "status": "completed"
    },
    "tags": []
   },
   "outputs": [
    {
     "name": "stdout",
     "output_type": "stream",
     "text": [
      "✅ Models saved as 'generator.pth' and 'discriminator.pth'\n"
     ]
    }
   ],
   "source": [
    "# Save generator and discriminator models\n",
    "torch.save(gen.state_dict(), \"generator.pth\")\n",
    "torch.save(disc.state_dict(), \"discriminator.pth\")\n",
    "print(\"✅ Models saved as 'generator.pth' and 'discriminator.pth'\")"
   ]
  },
  {
   "cell_type": "code",
   "execution_count": null,
   "id": "017171c5",
   "metadata": {
    "papermill": {
     "duration": 9.15327,
     "end_time": "2025-04-11T08:49:08.576176",
     "exception": false,
     "start_time": "2025-04-11T08:48:59.422906",
     "status": "completed"
    },
    "tags": []
   },
   "outputs": [],
   "source": []
  },
  {
   "cell_type": "code",
   "execution_count": 16,
   "id": "058c2646",
   "metadata": {
    "execution": {
     "iopub.execute_input": "2025-04-11T08:49:27.470930Z",
     "iopub.status.busy": "2025-04-11T08:49:27.470239Z",
     "iopub.status.idle": "2025-04-11T08:49:30.668039Z",
     "shell.execute_reply": "2025-04-11T08:49:30.667459Z"
    },
    "papermill": {
     "duration": 12.610569,
     "end_time": "2025-04-11T08:49:30.669058",
     "exception": false,
     "start_time": "2025-04-11T08:49:18.058489",
     "status": "completed"
    },
    "tags": []
   },
   "outputs": [
    {
     "name": "stderr",
     "output_type": "stream",
     "text": [
      "\u001b[34m\u001b[1mwandb\u001b[0m: uploading saved_weights/disc_epoch_50.pth; uploading saved_weights/gen_epoch_40.pth; uploading saved_weights/disc_epoch_20.pth; uploading saved_weights/disc_epoch_30.pth; uploading saved_weights/gen_epoch_50.pth (+ 5 more)\n",
      "\u001b[34m\u001b[1mwandb\u001b[0m:                                                                                \n",
      "\u001b[34m\u001b[1mwandb\u001b[0m: \n",
      "\u001b[34m\u001b[1mwandb\u001b[0m: Run history:\n",
      "\u001b[34m\u001b[1mwandb\u001b[0m:                    Epoch ▁▁▁▁▁▂▂▂▂▂▂▂▂▂▂▂▂▃▃▃▃▄▄▄▄▄▅▅▅▅▅▆▆▆▆▇▇▇██\n",
      "\u001b[34m\u001b[1mwandb\u001b[0m: Train Loss Discriminator ▃█▃▂▂▁▁▁▁▁▁▁▁▁▁▁▁▂▁▁▂▁▁▂▁▁▂▁▂▁▂▁▁▁▁▁▄▁▂▁\n",
      "\u001b[34m\u001b[1mwandb\u001b[0m:     Train Loss Generator ▁▂▁▁▁▂▁██████▂▁▂▂▂▂▂▂▂▂▁▂▂▁▁▁▁▁▁▁▂▂▁▂▂▂▃\n",
      "\u001b[34m\u001b[1mwandb\u001b[0m:   Val Loss Discriminator ▁▁▁▁▁████████▇▁▁▁▁▁▁▁▁▁▁▁▁▁▁▁▁▁▁▁▂▁▁▁▁▁▁\n",
      "\u001b[34m\u001b[1mwandb\u001b[0m:       Val Loss Generator ▁▁▁▁▁█████▇▇▇▇▁▁▂▂▁▁▂▁▁▁▁▁▁▁▂▁▁▁▁▂▁▁▁▁▁▁\n",
      "\u001b[34m\u001b[1mwandb\u001b[0m: \n",
      "\u001b[34m\u001b[1mwandb\u001b[0m: Run summary:\n",
      "\u001b[34m\u001b[1mwandb\u001b[0m:                    Epoch 49\n",
      "\u001b[34m\u001b[1mwandb\u001b[0m: Train Loss Discriminator 0.05686\n",
      "\u001b[34m\u001b[1mwandb\u001b[0m:     Train Loss Generator 4.39068\n",
      "\u001b[34m\u001b[1mwandb\u001b[0m:   Val Loss Discriminator 0.41481\n",
      "\u001b[34m\u001b[1mwandb\u001b[0m:       Val Loss Generator 3.59384\n",
      "\u001b[34m\u001b[1mwandb\u001b[0m: \n",
      "\u001b[34m\u001b[1mwandb\u001b[0m: 🚀 View run \u001b[33mDCGAN\u001b[0m at: \u001b[34m\u001b[4mhttps://wandb.ai/invi-bhagyesh-manipal/GAN/runs/mss4mkrz\u001b[0m\n",
      "\u001b[34m\u001b[1mwandb\u001b[0m: ⭐️ View project at: \u001b[34m\u001b[4mhttps://wandb.ai/invi-bhagyesh-manipal/GAN\u001b[0m\n",
      "\u001b[34m\u001b[1mwandb\u001b[0m: Synced 5 W&B file(s), 10 media file(s), 0 artifact file(s) and 10 other file(s)\n",
      "\u001b[34m\u001b[1mwandb\u001b[0m: Find logs at: \u001b[35m\u001b[1m./wandb/run-20250411_053901-mss4mkrz/logs\u001b[0m\n"
     ]
    }
   ],
   "source": [
    "wandb.finish()"
   ]
  },
  {
   "cell_type": "code",
   "execution_count": null,
   "id": "22637ae1",
   "metadata": {
    "papermill": {
     "duration": 9.448528,
     "end_time": "2025-04-11T08:49:49.319540",
     "exception": false,
     "start_time": "2025-04-11T08:49:39.871012",
     "status": "completed"
    },
    "tags": []
   },
   "outputs": [],
   "source": []
  }
 ],
 "metadata": {
  "kaggle": {
   "accelerator": "gpu",
   "dataSources": [
    {
     "datasetId": 29561,
     "sourceId": 37705,
     "sourceType": "datasetVersion"
    }
   ],
   "dockerImageVersionId": 31011,
   "isGpuEnabled": true,
   "isInternetEnabled": true,
   "language": "python",
   "sourceType": "notebook"
  },
  "kernelspec": {
   "display_name": "Python 3",
   "language": "python",
   "name": "python3"
  },
  "language_info": {
   "codemirror_mode": {
    "name": "ipython",
    "version": 3
   },
   "file_extension": ".py",
   "mimetype": "text/x-python",
   "name": "python",
   "nbconvert_exporter": "python",
   "pygments_lexer": "ipython3",
   "version": "3.11.11"
  },
  "papermill": {
   "default_parameters": {},
   "duration": 11475.541943,
   "end_time": "2025-04-11T08:50:01.583962",
   "environment_variables": {},
   "exception": null,
   "input_path": "__notebook__.ipynb",
   "output_path": "__notebook__.ipynb",
   "parameters": {},
   "start_time": "2025-04-11T05:38:46.042019",
   "version": "2.6.0"
  }
 },
 "nbformat": 4,
 "nbformat_minor": 5
}
